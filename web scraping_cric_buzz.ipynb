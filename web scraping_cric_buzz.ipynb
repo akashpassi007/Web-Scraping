{
 "cells": [
  {
   "cell_type": "code",
   "execution_count": 1,
   "metadata": {},
   "outputs": [
    {
     "name": "stdout",
     "output_type": "stream",
     "text": [
      "Requirement already satisfied: beautifulsoup4 in c:\\users\\bharani\\appdata\\local\\continuum\\anaconda3\\lib\\site-packages (4.8.0)\n",
      "Requirement already satisfied: soupsieve>=1.2 in c:\\users\\bharani\\appdata\\local\\continuum\\anaconda3\\lib\\site-packages (from beautifulsoup4) (1.9.3)\n"
     ]
    }
   ],
   "source": [
    "! pip install beautifulsoup4"
   ]
  },
  {
   "cell_type": "code",
   "execution_count": 2,
   "metadata": {},
   "outputs": [
    {
     "name": "stdout",
     "output_type": "stream",
     "text": [
      "Requirement already satisfied: requests in c:\\users\\bharani\\appdata\\local\\continuum\\anaconda3\\lib\\site-packages (2.22.0)\n",
      "Requirement already satisfied: urllib3!=1.25.0,!=1.25.1,<1.26,>=1.21.1 in c:\\users\\bharani\\appdata\\local\\continuum\\anaconda3\\lib\\site-packages (from requests) (1.24.2)\n",
      "Requirement already satisfied: chardet<3.1.0,>=3.0.2 in c:\\users\\bharani\\appdata\\local\\continuum\\anaconda3\\lib\\site-packages (from requests) (3.0.4)\n",
      "Requirement already satisfied: idna<2.9,>=2.5 in c:\\users\\bharani\\appdata\\local\\continuum\\anaconda3\\lib\\site-packages (from requests) (2.8)\n",
      "Requirement already satisfied: certifi>=2017.4.17 in c:\\users\\bharani\\appdata\\local\\continuum\\anaconda3\\lib\\site-packages (from requests) (2019.9.11)\n"
     ]
    }
   ],
   "source": [
    "! pip install requests"
   ]
  },
  {
   "cell_type": "code",
   "execution_count": 5,
   "metadata": {},
   "outputs": [],
   "source": [
    "import sys\n",
    "import time\n",
    "from bs4 import BeautifulSoup\n",
    "import requests\n",
    "import pandas as pd"
   ]
  },
  {
   "cell_type": "code",
   "execution_count": 58,
   "metadata": {},
   "outputs": [],
   "source": [
    "try:\n",
    "        #use the browser to get the url. This is suspicious command that might blow up.\n",
    "    page=requests.get('https://www.cricbuzz.com')                             # this might throw an exception if something goes wrong.\n",
    "    \n",
    "except Exception as e:                                   # this describes what to do if an exception is thrown\n",
    "    error_type, error_obj, error_info = sys.exc_info()      # get the exception information\n",
    "    print ('ERROR FOR LINK:',url)                          #print the link that cause the problem\n",
    "    print (error_type, 'Line:', error_info.tb_lineno)     #print error info and line that threw the exception\n",
    "                                                 #ignore this page. Abandon this and go back.\n",
    "time.sleep(2)   \n",
    "soup=BeautifulSoup(page.text,'html.parser')\n",
    "links=soup.find_all('div',attrs={'class':'cb-nws-intr'})   "
   ]
  },
  {
   "cell_type": "code",
   "execution_count": 59,
   "metadata": {},
   "outputs": [
    {
     "data": {
      "text/plain": [
       "[<div class=\"cb-nws-intr\">A bowler of great spells, yes, but also a truly great Test match bowler</div>,\n",
       " <div class=\"cb-nws-intr\">Stats preview for the upcoming Wisden Trophy</div>,\n",
       " <div class=\"cb-nws-intr\">Dave Cameron isn't counting on \"number of votes\" to shepherd him to ICC's throne</div>,\n",
       " <div class=\"cb-nws-intr\">A 64-year-old man died after Mendis had knocked him over in Panadura</div>,\n",
       " <div class=\"cb-nws-intr\">As cricket returns with this age-old rivalry, go on, test your knowledge on the history of the Wisden Trophy!</div>,\n",
       " <div class=\"cb-nws-intr\">According to the complaint, Kohli's co-directors in two ventures are also associated with a talent management firm, which has Indian cricketers as its clients</div>,\n",
       " <div class=\"cb-nws-intr\">In a chat with Cricbuzz, Arun Dhumal, the BCCI treasurer, explains how the Indian cricket board is placed in the current situation and what the plans for the near future are</div>,\n",
       " <div class=\"cb-nws-intr\">The Asian Cricket Council (ACC) will meet on July 9 to determine if the tournament can be played</div>,\n",
       " <div class=\"cb-nws-intr\"> South Africa's white-ball captain, all-format wicketkeeper and star batter last picked up a bat four months ago</div>,\n",
       " <div class=\"cb-nws-intr\">Mahindananda Aluthgamage, who was the sports minister during the time of the 2011 World Cup, raised concerns about the four changes Sri Lanka made in the final</div>,\n",
       " <div class=\"cb-nws-intr\">The veteran batsman, who retired from international cricket in 2018, has been in talks with Mark Boucher over a possible return to the South Africa set-up</div>,\n",
       " <div class=\"cb-nws-intr\">As a result of the mutual decision, ACA has withdrawn the notice of dispute it lodged a month ago with CA</div>,\n",
       " <div class=\"cb-nws-intr\">Pakistan batsman said the team is confident the likes of Abbas, Naseem Shah and Shaheen Afridi will be able to use the conditions to trouble England </div>,\n",
       " <div class=\"cb-nws-intr\">Ambrose started his career in 2001 with Sussex but his best years came at Warwickshire, where he moved to in 2006</div>,\n",
       " <div class=\"cb-nws-intr\">The West Indies Test captain called for stringent by-laws and player briefings to combat racism in the sport</div>,\n",
       " <div class=\"cb-nws-intr\">The last of the famous Three W's of West Indies cricket passed away on Thursday at the age of 95</div>,\n",
       " <div class=\"cb-nws-intr\">Less money in the world is likely to mean less cricket in the future, but perhaps the game will benefit</div>,\n",
       " <div class=\"cb-nws-intr\">An in-depth look at how the Test nations are coping with the pandemic and what the future of cricket looks like there</div>,\n",
       " <div class=\"cb-nws-intr\">An in-depth look at how each of the Test nations has been coping with the crisis and what the future of cricket looks like there</div>,\n",
       " <div class=\"cb-nws-intr\">Ravichandran Ashwin recounts two exceptional moments that, in a way, defines the two Indian skippers</div>,\n",
       " <div class=\"cb-nws-intr\">As the sun set in Bangalore on April 18, 2008, Brendon McCullum set in motion cricket's greatest revolution since the Packer series</div>]"
      ]
     },
     "execution_count": 59,
     "metadata": {},
     "output_type": "execute_result"
    }
   ],
   "source": [
    "links"
   ]
  },
  {
   "cell_type": "code",
   "execution_count": 60,
   "metadata": {},
   "outputs": [
    {
     "name": "stdout",
     "output_type": "stream",
     "text": [
      "A bowler of great spells, yes, but also a truly great Test match bowler\n",
      "\n",
      "\n",
      "Stats preview for the upcoming Wisden Trophy\n",
      "\n",
      "\n",
      "Dave Cameron isn't counting on \"number of votes\" to shepherd him to ICC's throne\n",
      "\n",
      "\n",
      "A 64-year-old man died after Mendis had knocked him over in Panadura\n",
      "\n",
      "\n",
      "As cricket returns with this age-old rivalry, go on, test your knowledge on the history of the Wisden Trophy!\n",
      "\n",
      "\n",
      "According to the complaint, Kohli's co-directors in two ventures are also associated with a talent management firm, which has Indian cricketers as its clients\n",
      "\n",
      "\n",
      "In a chat with Cricbuzz, Arun Dhumal, the BCCI treasurer, explains how the Indian cricket board is placed in the current situation and what the plans for the near future are\n",
      "\n",
      "\n",
      "The Asian Cricket Council (ACC) will meet on July 9 to determine if the tournament can be played\n",
      "\n",
      "\n",
      " South Africa's white-ball captain, all-format wicketkeeper and star batter last picked up a bat four months ago\n",
      "\n",
      "\n",
      "Mahindananda Aluthgamage, who was the sports minister during the time of the 2011 World Cup, raised concerns about the four changes Sri Lanka made in the final\n",
      "\n",
      "\n",
      "The veteran batsman, who retired from international cricket in 2018, has been in talks with Mark Boucher over a possible return to the South Africa set-up\n",
      "\n",
      "\n",
      "As a result of the mutual decision, ACA has withdrawn the notice of dispute it lodged a month ago with CA\n",
      "\n",
      "\n",
      "Pakistan batsman said the team is confident the likes of Abbas, Naseem Shah and Shaheen Afridi will be able to use the conditions to trouble England \n",
      "\n",
      "\n",
      "Ambrose started his career in 2001 with Sussex but his best years came at Warwickshire, where he moved to in 2006\n",
      "\n",
      "\n",
      "The West Indies Test captain called for stringent by-laws and player briefings to combat racism in the sport\n",
      "\n",
      "\n",
      "The last of the famous Three W's of West Indies cricket passed away on Thursday at the age of 95\n",
      "\n",
      "\n",
      "Less money in the world is likely to mean less cricket in the future, but perhaps the game will benefit\n",
      "\n",
      "\n",
      "An in-depth look at how the Test nations are coping with the pandemic and what the future of cricket looks like there\n",
      "\n",
      "\n",
      "An in-depth look at how each of the Test nations has been coping with the crisis and what the future of cricket looks like there\n",
      "\n",
      "\n",
      "Ravichandran Ashwin recounts two exceptional moments that, in a way, defines the two Indian skippers\n",
      "\n",
      "\n",
      "As the sun set in Bangalore on April 18, 2008, Brendon McCullum set in motion cricket's greatest revolution since the Packer series\n",
      "\n",
      "\n"
     ]
    }
   ],
   "source": [
    "for i in links:\n",
    "    print(i.text)\n",
    "    print(\"\\n\")"
   ]
  },
  {
   "cell_type": "code",
   "execution_count": null,
   "metadata": {},
   "outputs": [],
   "source": []
  }
 ],
 "metadata": {
  "kernelspec": {
   "display_name": "Python 3",
   "language": "python",
   "name": "python3"
  },
  "language_info": {
   "codemirror_mode": {
    "name": "ipython",
    "version": 3
   },
   "file_extension": ".py",
   "mimetype": "text/x-python",
   "name": "python",
   "nbconvert_exporter": "python",
   "pygments_lexer": "ipython3",
   "version": "3.8.1"
  }
 },
 "nbformat": 4,
 "nbformat_minor": 2
}
